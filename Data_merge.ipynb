{
 "cells": [
  {
   "cell_type": "code",
   "execution_count": 1,
   "metadata": {},
   "outputs": [],
   "source": [
    "import pandas as pd\n",
    "import numpy as np\n",
    "from pathlib import Path\n",
    "import os\n",
    "import glob\n",
    "from tqdm import tqdm"
   ]
  },
  {
   "cell_type": "code",
   "execution_count": 3,
   "metadata": {},
   "outputs": [],
   "source": [
    "def extract_upper_triangular(matrix_file):\n",
    "    \"\"\"\n",
    "    Extract upper triangular portion from correlation matrix, excluding diagonal\n",
    "    \n",
    "    Parameters:\n",
    "    matrix_file (str): Path to the TSV file containing correlation matrix\n",
    "    \n",
    "    Returns:\n",
    "    numpy.ndarray: Flattened upper triangular portion\n",
    "    str: participant_id extracted from filename\n",
    "    \"\"\"\n",
    "    # Read TSV file\n",
    "    matrix = pd.read_csv(matrix_file, sep='\\t', header=None).values\n",
    "\n",
    "    rows, cols = matrix.shape\n",
    "    if rows != cols:\n",
    "        raise ValueError(f\"Matrix must be square. Got shape: {matrix.shape}\")\n",
    "    \n",
    "    # Get participant ID from filename\n",
    "    participant_id = Path(matrix_file).stem.split('_')[0].split('-')[1]\n",
    "    \n",
    "    # Get upper triangular indices\n",
    "    rows, cols = np.triu_indices(len(matrix), k=0)\n",
    "    \n",
    "    # Extract upper triangular values\n",
    "    upper_triangular = matrix[rows, cols]\n",
    "    \n",
    "    return upper_triangular, participant_id"
   ]
  },
  {
   "cell_type": "code",
   "execution_count": 4,
   "metadata": {},
   "outputs": [],
   "source": [
    "def process_connectome_folder(folder_path):\n",
    "    \"\"\"\n",
    "    Process all TSV files in a folder to create a DataFrame with correlation vectors\n",
    "    \n",
    "    Parameters:\n",
    "    folder_path (str): Path to folder containing TSV files\n",
    "    \n",
    "    Returns:\n",
    "    pandas.DataFrame: DataFrame with participant_id and correlation features\n",
    "    \"\"\"\n",
    "    all_data = []\n",
    "    \n",
    "    # Get all TSV files in the folder\n",
    "    tsv_files = glob.glob(f\"{folder_path}/*.tsv\")\n",
    "    \n",
    "    for tsv_file in tqdm(tsv_files):\n",
    "        correlations, participant_id = extract_upper_triangular(tsv_file)\n",
    "        \n",
    "        # Create a dictionary with participant_id and correlations\n",
    "        data_dict = {'participant_id': participant_id}\n",
    "        # Add correlations as features\n",
    "        for i, corr in enumerate(correlations):\n",
    "            data_dict[f'correlation_{i}'] = corr\n",
    "            \n",
    "        all_data.append(data_dict)\n",
    "    \n",
    "    # Convert to DataFrame\n",
    "    return pd.DataFrame(all_data)"
   ]
  },
  {
   "cell_type": "code",
   "execution_count": 5,
   "metadata": {},
   "outputs": [],
   "source": [
    "def process_dataset(connectome_folder, metadata_file):\n",
    "    \"\"\"\n",
    "    Process entire dataset including training and test sets\n",
    "    \n",
    "    Parameters:\n",
    "    train_folder (str): Path to training TSV files folder\n",
    "    test_folder (str): Path to test TSV files folder\n",
    "    metadata_file (str): Path to metadata CSV file\n",
    "    \n",
    "    Returns:\n",
    "    tuple: (training_df, test_df) with processed and merged data\n",
    "    \"\"\"\n",
    "    # Read metadata\n",
    "    metadata_df = pd.read_csv(metadata_file)\n",
    "    \n",
    "    # Process training and test folders\n",
    "    connectome_df = process_connectome_folder(connectome_folder)\n",
    "    \n",
    "    # Merge with metadata\n",
    "    final_df = pd.merge(connectome_df, metadata_df, on='participant_id', how='left')\n",
    "    \n",
    "    return final_df"
   ]
  },
  {
   "cell_type": "code",
   "execution_count": 6,
   "metadata": {},
   "outputs": [
    {
     "name": "stderr",
     "output_type": "stream",
     "text": [
      "100%|██████████| 1104/1104 [00:28<00:00, 38.83it/s]\n",
      "100%|██████████| 474/474 [00:14<00:00, 33.05it/s]\n"
     ]
    },
    {
     "name": "stdout",
     "output_type": "stream",
     "text": [
      "Training set shape: (1104, 20114)\n",
      "Test set shape: (474, 20113)\n"
     ]
    }
   ],
   "source": [
    "if __name__ == \"__main__\":\n",
    "    # Define paths (adjust these according to your directory structure)\n",
    "    TRAIN_FOLDER = os.path.join(\"widsdatathon2025-university\", \"train_tsv\", \"train_tsv\")\n",
    "    TRAIN_METADATA_FILE = os.path.join(\"widsdatathon2025-university\", \"metadata\", \"training_metadata.csv\")\n",
    "    TEST_FOLDER = os.path.join(\"widsdatathon2025-university\", \"test_tsv\", \"test_tsv\")\n",
    "    TEST_METADATA_FILE = os.path.join(\"widsdatathon2025-university\", \"metadata\", \"test_metadata.csv\")\n",
    "    \n",
    "    # Process the dataset\n",
    "    train_data = process_dataset(TRAIN_FOLDER, TRAIN_METADATA_FILE)\n",
    "    \n",
    "    # Save processed data\n",
    "    train_data.to_csv(\"processed_train_data.csv\", index=False)\n",
    "\n",
    "    test_data = process_dataset(TEST_FOLDER, TEST_METADATA_FILE)\n",
    "\n",
    "    test_data.to_csv(\"processed_test_data.csv\", index=False)\n",
    "    \n",
    "    # Print basic information about the processed datasets\n",
    "    print(f\"Training set shape: {train_data.shape}\")\n",
    "    print(f\"Test set shape: {test_data.shape}\")"
   ]
  }
 ],
 "metadata": {
  "kernelspec": {
   "display_name": ".widscomp",
   "language": "python",
   "name": "python3"
  },
  "language_info": {
   "codemirror_mode": {
    "name": "ipython",
    "version": 3
   },
   "file_extension": ".py",
   "mimetype": "text/x-python",
   "name": "python",
   "nbconvert_exporter": "python",
   "pygments_lexer": "ipython3",
   "version": "3.10.11"
  }
 },
 "nbformat": 4,
 "nbformat_minor": 2
}
